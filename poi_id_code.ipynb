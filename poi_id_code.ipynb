{
 "cells": [
  {
   "cell_type": "code",
   "execution_count": 1,
   "metadata": {
    "scrolled": true
   },
   "outputs": [
    {
     "name": "stderr",
     "output_type": "stream",
     "text": [
      "C:\\Anaconda2\\lib\\site-packages\\sklearn\\cross_validation.py:41: DeprecationWarning: This module was deprecated in version 0.18 in favor of the model_selection module into which all the refactored classes and functions are moved. Also note that the interface of the new CV iterators are different from that of this module. This module will be removed in 0.20.\n",
      "  \"This module will be removed in 0.20.\", DeprecationWarning)\n",
      "C:\\Anaconda2\\lib\\site-packages\\sklearn\\grid_search.py:42: DeprecationWarning: This module was deprecated in version 0.18 in favor of the model_selection module into which all the refactored classes and functions are moved. This module will be removed in 0.20.\n",
      "  DeprecationWarning)\n"
     ]
    }
   ],
   "source": [
    "import sys\n",
    "import pickle\n",
    "sys.path.append(\"../tools/\")\n",
    "\n",
    "from feature_format import featureFormat, targetFeatureSplit\n",
    "from tester import dump_classifier_and_data\n",
    "\n",
    "import pandas as pd\n",
    "import numpy\n",
    "import matplotlib.pyplot as plt\n",
    "% matplotlib inline\n",
    "from sklearn.pipeline import Pipeline\n",
    "from sklearn.grid_search import GridSearchCV\n",
    "from sklearn.naive_bayes import GaussianNB\n",
    "from sklearn.feature_selection import SelectKBest, f_classif\n",
    "from sklearn.cross_validation import StratifiedShuffleSplit\n",
    "from sklearn.model_selection import train_test_split\n",
    "from sklearn.decomposition import PCA\n",
    "from sklearn.metrics import precision_score, accuracy_score\n",
    "from sklearn.metrics import recall_score\n",
    "from sklearn.preprocessing import MinMaxScaler\n",
    "from sklearn import svm\n",
    "from sklearn import tree\n",
    "from sklearn.metrics import classification_report\n",
    "from tester import test_classifier"
   ]
  },
  {
   "cell_type": "code",
   "execution_count": 2,
   "metadata": {},
   "outputs": [],
   "source": [
    "### Task 1: Select what features you'll use.\n",
    "### features_list is a list of strings, each of which is a feature name.\n",
    "### The first feature must be \"poi\"."
   ]
  },
  {
   "cell_type": "code",
   "execution_count": 3,
   "metadata": {},
   "outputs": [],
   "source": [
    "features_list = ['poi',\n",
    " 'salary',\n",
    " 'to_messages',\n",
    " 'deferral_payments',\n",
    " 'total_payments',\n",
    " 'exercised_stock_options',\n",
    " 'bonus',\n",
    " 'restricted_stock',\n",
    " 'shared_receipt_with_poi',\n",
    " 'restricted_stock_deferred',\n",
    " 'total_stock_value',\n",
    " 'expenses',\n",
    " 'loan_advances',\n",
    " 'from_messages',\n",
    " 'other',\n",
    " 'from_this_person_to_poi',\n",
    " 'director_fees',\n",
    " 'deferred_income',\n",
    " 'long_term_incentive',\n",
    " #'email_address',\n",
    " 'from_poi_to_this_person' ,\n",
    " 'long_incentive_over_salary_ratio', # new created\n",
    " 'bonus_over_salary_ratio']  # new created\n"
   ]
  },
  {
   "cell_type": "code",
   "execution_count": 4,
   "metadata": {},
   "outputs": [],
   "source": [
    "### Load the dictionary containing the dataset\n",
    "with open(\"final_project_dataset.pkl\", \"r\") as data_file:\n",
    "    data_dict = pickle.load(data_file)"
   ]
  },
  {
   "cell_type": "code",
   "execution_count": 5,
   "metadata": {},
   "outputs": [
    {
     "data": {
      "text/plain": [
       "146"
      ]
     },
     "execution_count": 5,
     "metadata": {},
     "output_type": "execute_result"
    }
   ],
   "source": [
    "### how many people are in the dataset\n",
    "len(data_dict)"
   ]
  },
  {
   "cell_type": "code",
   "execution_count": 6,
   "metadata": {},
   "outputs": [
    {
     "data": {
      "text/plain": [
       "21"
      ]
     },
     "execution_count": 6,
     "metadata": {},
     "output_type": "execute_result"
    }
   ],
   "source": [
    "### for each person, how may features are available (include 'email_address' and 'poi', not include new created features)\n",
    "len(data_dict['ALLEN PHILLIP K'])"
   ]
  },
  {
   "cell_type": "code",
   "execution_count": 7,
   "metadata": {},
   "outputs": [
    {
     "name": "stdout",
     "output_type": "stream",
     "text": [
      "(['HANNON KEVIN P', 'COLWELL WESLEY', 'RIEKER PAULA H', 'KOPPER MICHAEL J', 'SHELBY REX', 'DELAINEY DAVID W', 'LAY KENNETH L', 'BOWEN JR RAYMOND M', 'BELDEN TIMOTHY N', 'FASTOW ANDREW S', 'CALGER CHRISTOPHER F', 'RICE KENNETH D', 'SKILLING JEFFREY K', 'YEAGER F SCOTT', 'HIRKO JOSEPH', 'KOENIG MARK E', 'CAUSEY RICHARD A', 'GLISAN JR BEN F'], 18)\n"
     ]
    }
   ],
   "source": [
    "#### how many \"poi\" in the dataset\n",
    "poi_list =[]\n",
    "\n",
    "for k in data_dict:\n",
    "    if data_dict[k][\"poi\"] == True:\n",
    "        poi_list.append(k)\n",
    "        \n",
    "print (poi_list, len(poi_list))"
   ]
  },
  {
   "cell_type": "code",
   "execution_count": 8,
   "metadata": {},
   "outputs": [
    {
     "data": {
      "text/plain": [
       "{'bonus': 0.44,\n",
       " 'deferral_payments': 0.73,\n",
       " 'deferred_income': 0.66,\n",
       " 'director_fees': 0.88,\n",
       " 'email_address': 0.24,\n",
       " 'exercised_stock_options': 0.3,\n",
       " 'expenses': 0.35,\n",
       " 'from_messages': 0.41,\n",
       " 'from_poi_to_this_person': 0.41,\n",
       " 'from_this_person_to_poi': 0.41,\n",
       " 'loan_advances': 0.97,\n",
       " 'long_term_incentive': 0.55,\n",
       " 'other': 0.36,\n",
       " 'poi': 0.0,\n",
       " 'restricted_stock': 0.25,\n",
       " 'restricted_stock_deferred': 0.88,\n",
       " 'salary': 0.35,\n",
       " 'shared_receipt_with_poi': 0.41,\n",
       " 'to_messages': 0.41,\n",
       " 'total_payments': 0.14,\n",
       " 'total_stock_value': 0.14}"
      ]
     },
     "execution_count": 8,
     "metadata": {},
     "output_type": "execute_result"
    }
   ],
   "source": [
    "### features with missing vales percentage\n",
    "\n",
    "features = data_dict['ALLEN PHILLIP K'].keys()    # get all features\n",
    "features_NaN = {}\n",
    "\n",
    "for i in range(0, len(features)):    \n",
    "    feature = features[i]      # get each feature name in every for loop\n",
    "    m = 0      # count how many NaN for each feature               \n",
    "    for k in data_dict:      # loop each person\n",
    "        if data_dict[k][feature] == 'NaN':     # if the feature is NaN for the looped person\n",
    "            m += 1       # count how many people have 'NaN' for this feature\n",
    "    features_NaN[feature] = round(float(m) / float(len(data_dict)), 2)       # 2 decimal percentage of NaN for each feature\n",
    "\n",
    "features_NaN"
   ]
  },
  {
   "cell_type": "code",
   "execution_count": null,
   "metadata": {},
   "outputs": [],
   "source": []
  },
  {
   "cell_type": "code",
   "execution_count": 9,
   "metadata": {},
   "outputs": [],
   "source": [
    "### Task 2: Remove outliers"
   ]
  },
  {
   "cell_type": "markdown",
   "metadata": {},
   "source": [
    "Because of the size of dataset, I tend to be conservative about outliers. The two outliers I decide to remove are \"TOTAL\" and \"THE TRAVEL AGENCY IN THE PARK\", which are mentioned in the \"enron61702insiderpay.pdf\"."
   ]
  },
  {
   "cell_type": "code",
   "execution_count": 10,
   "metadata": {},
   "outputs": [
    {
     "data": {
      "text/plain": [
       "{'bonus': 'NaN',\n",
       " 'deferral_payments': 'NaN',\n",
       " 'deferred_income': 'NaN',\n",
       " 'director_fees': 'NaN',\n",
       " 'email_address': 'NaN',\n",
       " 'exercised_stock_options': 'NaN',\n",
       " 'expenses': 'NaN',\n",
       " 'from_messages': 'NaN',\n",
       " 'from_poi_to_this_person': 'NaN',\n",
       " 'from_this_person_to_poi': 'NaN',\n",
       " 'loan_advances': 'NaN',\n",
       " 'long_term_incentive': 'NaN',\n",
       " 'other': 362096,\n",
       " 'poi': False,\n",
       " 'restricted_stock': 'NaN',\n",
       " 'restricted_stock_deferred': 'NaN',\n",
       " 'salary': 'NaN',\n",
       " 'shared_receipt_with_poi': 'NaN',\n",
       " 'to_messages': 'NaN',\n",
       " 'total_payments': 362096,\n",
       " 'total_stock_value': 'NaN'}"
      ]
     },
     "execution_count": 10,
     "metadata": {},
     "output_type": "execute_result"
    }
   ],
   "source": [
    "data_dict.pop('TOTAL', 0 ) \n",
    "data_dict.pop('THE TRAVEL AGENCY IN THE PARK', 0 ) "
   ]
  },
  {
   "cell_type": "code",
   "execution_count": null,
   "metadata": {},
   "outputs": [],
   "source": []
  },
  {
   "cell_type": "code",
   "execution_count": 11,
   "metadata": {},
   "outputs": [],
   "source": [
    "### Task 3: Create new feature(s)\n",
    "### Store to my_dataset for easy export below.\n"
   ]
  },
  {
   "cell_type": "markdown",
   "metadata": {},
   "source": [
    "It seems that POI are a group of people who chase short term benefits. So I use \"bonus\" as short-term benefits and \"long_term_incentive\" as long-term benefits, and make both of them divides by \"bonus\" since bonus is a fair measure of position in a company."
   ]
  },
  {
   "cell_type": "code",
   "execution_count": 12,
   "metadata": {},
   "outputs": [],
   "source": [
    "for person in data_dict:  # create 'long_incentive_over_salary_ratio'\n",
    "    if data_dict[person]['salary'] != \"NaN\" and data_dict[person]['long_term_incentive'] != 'NaN':\n",
    "        data_dict[person]['long_incentive_over_salary_ratio'] = float(data_dict[person]['long_term_incentive'])\\\n",
    "          / float(data_dict[person]['salary'])\n",
    "    else:\n",
    "        data_dict[person]['long_incentive_over_salary_ratio'] = 0\n",
    "        \n",
    "for person in data_dict:   # create 'bonus_over_salary_ratio'  \n",
    "    if data_dict[person]['salary'] != \"NaN\" and data_dict[person]['bonus'] != 'NaN':\n",
    "        data_dict[person]['bonus_over_salary_ratio'] = float(data_dict[person]['bonus'])\\\n",
    "          / float(data_dict[person]['salary'])\n",
    "    else:\n",
    "        data_dict[person]['bonus_over_salary_ratio'] = 0"
   ]
  },
  {
   "cell_type": "code",
   "execution_count": 13,
   "metadata": {},
   "outputs": [],
   "source": [
    "# transform data_dict to data frame\n",
    "\n",
    "df = pd.DataFrame.from_dict(data_dict)\n",
    "df = df.transpose()\n",
    "\n",
    "df.apply(lambda x: pd.to_numeric(x, errors='ignore'))\n",
    "\n",
    "#reference https://discussions.udacity.com/t/enron-data-pandas/199298/2\n",
    " \n",
    "df.replace(to_replace='NaN', value=numpy.nan, inplace=True)  \n",
    "df.fillna(0, inplace = True)"
   ]
  },
  {
   "cell_type": "code",
   "execution_count": 14,
   "metadata": {},
   "outputs": [
    {
     "data": {
      "text/plain": [
       "<matplotlib.legend.Legend at 0xbe7bf28>"
      ]
     },
     "execution_count": 14,
     "metadata": {},
     "output_type": "execute_result"
    },
    {
     "data": {
      "image/png": "[encoded data removed]",
      "text/plain": [
       "<Figure size 432x288 with 1 Axes>"
      ]
     },
     "metadata": {},
     "output_type": "display_data"
    }
   ],
   "source": [
    "# plot new created features\n",
    "\n",
    "plt.scatter(df[df['poi']==0]['long_incentive_over_salary_ratio'],df[df['poi']== 0]['bonus_over_salary_ratio'], c = 'b')\n",
    "plt.scatter(df[df['poi']==1]['long_incentive_over_salary_ratio'],df[df['poi']== 1]['bonus_over_salary_ratio'], c = 'r')\n",
    "plt.legend((\"non_poi\", \"poi\"))"
   ]
  },
  {
   "cell_type": "markdown",
   "metadata": {},
   "source": [
    "From the graph, it seems that POIs are not likely having \"long_incentive_over_salary_ratio\" greater than 10. "
   ]
  },
  {
   "cell_type": "code",
   "execution_count": 15,
   "metadata": {},
   "outputs": [],
   "source": [
    "my_dataset = data_dict\n",
    "\n",
    "### Extract features and labels from dataset for local testing\n",
    "data = featureFormat(my_dataset, features_list, sort_keys = True)\n",
    "labels, features = targetFeatureSplit(data)"
   ]
  },
  {
   "cell_type": "code",
   "execution_count": null,
   "metadata": {},
   "outputs": [],
   "source": []
  },
  {
   "cell_type": "code",
   "execution_count": 16,
   "metadata": {},
   "outputs": [],
   "source": [
    "### Task 4: Try a varity of classifiers & Task 5: Tune parameters"
   ]
  },
  {
   "cell_type": "code",
   "execution_count": 17,
   "metadata": {},
   "outputs": [],
   "source": [
    "#cross validation\n",
    "features_train, features_test, labels_train, labels_test = train_test_split(features, labels, test_size=0.3, random_state=42)\n",
    "sss = StratifiedShuffleSplit(labels_train, 1000, random_state = 42)"
   ]
  },
  {
   "cell_type": "code",
   "execution_count": 18,
   "metadata": {},
   "outputs": [
    {
     "name": "stderr",
     "output_type": "stream",
     "text": [
      "C:\\Anaconda2\\lib\\site-packages\\sklearn\\metrics\\classification.py:1135: UndefinedMetricWarning: F-score is ill-defined and being set to 0.0 due to no predicted samples.\n",
      "  'precision', 'predicted', average, warn_for)\n"
     ]
    },
    {
     "name": "stdout",
     "output_type": "stream",
     "text": [
      "{'k_best__k': 9}\n"
     ]
    }
   ],
   "source": [
    "# first classifier: GaussianNB()\n",
    "\n",
    "\n",
    "kbest = SelectKBest(f_classif)\n",
    "classifier = GaussianNB()\n",
    "\n",
    "steps = [('k_best', kbest),('classifier', classifier)]\n",
    "\n",
    "pipeline = Pipeline(steps)\n",
    "\n",
    "param_grid = {'k_best__k': range(3, 10)}\n",
    "\n",
    "clf = GridSearchCV(pipeline, param_grid, scoring=\"f1\",cv=sss)\n",
    "    \n",
    "clf.fit(features_train, labels_train)\n",
    "\n",
    "print clf.best_params_"
   ]
  },
  {
   "cell_type": "code",
   "execution_count": null,
   "metadata": {},
   "outputs": [],
   "source": []
  },
  {
   "cell_type": "code",
   "execution_count": 19,
   "metadata": {},
   "outputs": [
    {
     "name": "stdout",
     "output_type": "stream",
     "text": [
      "0.4 0.4 0.8604651162790697\n"
     ]
    }
   ],
   "source": [
    "# predict and scores\n",
    "pred = clf.predict(features_test)\n",
    "recall = recall_score(labels_test, pred)\n",
    "precision = precision_score(labels_test, pred)\n",
    "accuracy = accuracy_score(labels_test, pred)\n",
    "print recall, precision, accuracy"
   ]
  },
  {
   "cell_type": "code",
   "execution_count": 20,
   "metadata": {},
   "outputs": [
    {
     "data": {
      "text/plain": [
       "array([1.58587309e+01, 2.61618300e+00, 9.98239959e-03, 8.95913665e+00,\n",
       "       9.68004143e+00, 3.07287746e+01, 8.05830631e+00, 1.07225708e+01,\n",
       "       7.27124110e-01, 1.06338520e+01, 4.18072148e+00, 7.03793280e+00,\n",
       "       4.35374099e-01, 3.20445914e+00, 1.11208239e-01, 1.64109793e+00,\n",
       "       8.79220385e+00, 7.55511978e+00, 4.95866668e+00, 2.76784090e-02,\n",
       "       2.11171142e+01])"
      ]
     },
     "execution_count": 20,
     "metadata": {},
     "output_type": "execute_result"
    }
   ],
   "source": [
    "# SelectKBest scores\n",
    "KBest = clf.best_estimator_.named_steps['k_best']\n",
    "KBest.scores_"
   ]
  },
  {
   "cell_type": "code",
   "execution_count": null,
   "metadata": {},
   "outputs": [],
   "source": []
  },
  {
   "cell_type": "code",
   "execution_count": 21,
   "metadata": {},
   "outputs": [
    {
     "name": "stdout",
     "output_type": "stream",
     "text": [
      "{'k_best__k': 14, 'classifier__gamma': 1, 'classifier__kernel': 'rbf', 'classifier__C': 1000}\n"
     ]
    }
   ],
   "source": [
    "# second classifier: SVM\n",
    "\n",
    "\n",
    "scaler = MinMaxScaler()\n",
    "kbest = SelectKBest(f_classif)\n",
    "classifier = svm.SVC()\n",
    "\n",
    "steps = [('scaler', scaler), ('k_best', kbest), ('classifier', classifier)]\n",
    "pipeline = Pipeline(steps)\n",
    "\n",
    "param_grid = {'k_best__k': range(10,15), 'classifier__kernel': ['linear','rbf'],\n",
    "             'classifier__C':[0.01,0.1,1,10,100,1000], 'classifier__gamma':[0.001,0.01,0.1,1,10,100]}\n",
    "\n",
    "clf = GridSearchCV(pipeline, param_grid, scoring=\"f1\",cv=sss)\n",
    "    \n",
    "clf.fit(features_train, labels_train)\n",
    "\n",
    "print clf.best_params_"
   ]
  },
  {
   "cell_type": "code",
   "execution_count": 22,
   "metadata": {},
   "outputs": [
    {
     "name": "stdout",
     "output_type": "stream",
     "text": [
      "0.2 0.1111111111111111 0.7209302325581395\n"
     ]
    }
   ],
   "source": [
    "pred = clf.predict(features_test)\n",
    "recall = recall_score(labels_test, pred)\n",
    "precision = precision_score(labels_test, pred)\n",
    "accuracy = accuracy_score(labels_test, pred)\n",
    "print recall, precision, accuracy"
   ]
  },
  {
   "cell_type": "code",
   "execution_count": null,
   "metadata": {},
   "outputs": [],
   "source": []
  },
  {
   "cell_type": "code",
   "execution_count": 23,
   "metadata": {},
   "outputs": [
    {
     "name": "stdout",
     "output_type": "stream",
     "text": [
      "{'classifier__min_samples_split': 23, 'pca__n_components': 3, 'classifier__max_leaf_nodes': None, 'classifier__min_samples_leaf': 3, 'k_best__k': 12, 'classifier__criterion': 'gini'}\n"
     ]
    }
   ],
   "source": [
    "# third classifier: Decision Tree\n",
    "\n",
    "\n",
    "kbest = SelectKBest(f_classif)\n",
    "pca = PCA()\n",
    "classifier = tree.DecisionTreeClassifier()\n",
    "\n",
    "\n",
    "steps = [('k_best', kbest), ('pca', pca), ('classifier', classifier)]\n",
    "\n",
    "pipeline = Pipeline(steps)\n",
    "\n",
    "\n",
    "param_grid = {'k_best__k': range(10,15), 'pca__n_components': [2,3,4], 'classifier__min_samples_split': range(18,25), \\\n",
    "             'classifier__criterion': ['gini', 'entropy'], 'classifier__min_samples_leaf': [2,3,4,5], \\\n",
    "             'classifier__max_leaf_nodes': [None,2,3,4]}\n",
    "\n",
    "clf = GridSearchCV(pipeline, param_grid, scoring=\"f1\",cv=sss)\n",
    "    \n",
    "clf.fit(features_train, labels_train)\n",
    "\n",
    "print clf.best_params_"
   ]
  },
  {
   "cell_type": "code",
   "execution_count": 24,
   "metadata": {},
   "outputs": [
    {
     "name": "stdout",
     "output_type": "stream",
     "text": [
      "0.2 0.1 0.6976744186046512\n"
     ]
    }
   ],
   "source": [
    "pred = clf.predict(features_test)\n",
    "recall = recall_score(labels_test, pred)\n",
    "precision = precision_score(labels_test, pred)\n",
    "accuracy = accuracy_score(labels_test, pred)\n",
    "print recall, precision, accuracy"
   ]
  },
  {
   "cell_type": "code",
   "execution_count": null,
   "metadata": {},
   "outputs": [],
   "source": []
  },
  {
   "cell_type": "code",
   "execution_count": 25,
   "metadata": {},
   "outputs": [],
   "source": [
    "### test if the new created feature \"bonus_over_salary_ratio\" is really useful to improve performance of algorithm"
   ]
  },
  {
   "cell_type": "code",
   "execution_count": 26,
   "metadata": {},
   "outputs": [],
   "source": [
    "with_new_features_list = [\"poi\", \"bonus\", \"bonus_over_salary_ratio\", \"salary\", \"shared_receipt_with_poi\", \"total_stock_value\", \\\n",
    "                      \"exercised_stock_options\", \"total_payments\", \"deferred_income\", \"restricted_stock\"]\n",
    "\n",
    "without_new_feature_list = [\"poi\", \"bonus\", \"salary\", \"shared_receipt_with_poi\", \"total_stock_value\", \\\n",
    "                      \"exercised_stock_options\", \"total_payments\", \"deferred_income\", \"restricted_stock\"]"
   ]
  },
  {
   "cell_type": "code",
   "execution_count": 27,
   "metadata": {},
   "outputs": [],
   "source": [
    "clf = GaussianNB()"
   ]
  },
  {
   "cell_type": "code",
   "execution_count": 28,
   "metadata": {},
   "outputs": [
    {
     "name": "stdout",
     "output_type": "stream",
     "text": [
      "GaussianNB(priors=None)\n",
      "\tAccuracy: 0.84420\tPrecision: 0.39409\tRecall: 0.31350\tF1: 0.34921\tF2: 0.32687\n",
      "\tTotal predictions: 15000\tTrue positives:  627\tFalse positives:  964\tFalse negatives: 1373\tTrue negatives: 12036\n",
      "\n"
     ]
    }
   ],
   "source": [
    "# performance scores when have new created feature \"bonus_over_salary_ratio\" \n",
    "test_classifier(clf, my_dataset, with_new_features_list)"
   ]
  },
  {
   "cell_type": "code",
   "execution_count": 29,
   "metadata": {},
   "outputs": [
    {
     "name": "stdout",
     "output_type": "stream",
     "text": [
      "GaussianNB(priors=None)\n",
      "\tAccuracy: 0.84420\tPrecision: 0.39409\tRecall: 0.31350\tF1: 0.34921\tF2: 0.32687\n",
      "\tTotal predictions: 15000\tTrue positives:  627\tFalse positives:  964\tFalse negatives: 1373\tTrue negatives: 12036\n",
      "\n"
     ]
    }
   ],
   "source": [
    "# performance scores when DOES NOT have new created feature \"bonus_over_salary_ratio\" \n",
    "test_classifier(clf, my_dataset, without_new_feature_list)"
   ]
  },
  {
   "cell_type": "markdown",
   "metadata": {},
   "source": [
    "Comparing the two test results, we found that the new created feature \"bonus_over_salary_ratio\" isn't helpful to improve algorithm performance. So we will delete it from the final featue list ."
   ]
  },
  {
   "cell_type": "code",
   "execution_count": null,
   "metadata": {},
   "outputs": [],
   "source": []
  },
  {
   "cell_type": "code",
   "execution_count": 30,
   "metadata": {},
   "outputs": [],
   "source": [
    "# Final analysis"
   ]
  },
  {
   "cell_type": "code",
   "execution_count": 31,
   "metadata": {},
   "outputs": [],
   "source": [
    "#feature_list for final analysis\n",
    "final_feature_list = [\"poi\", \"bonus\", \"salary\", \"shared_receipt_with_poi\", \"total_stock_value\", \\\n",
    "                      \"exercised_stock_options\", \"total_payments\", \"deferred_income\", \"restricted_stock\"]"
   ]
  },
  {
   "cell_type": "code",
   "execution_count": 32,
   "metadata": {},
   "outputs": [],
   "source": [
    "#extract and validate data\n",
    "data = featureFormat(my_dataset, final_feature_list, sort_keys = True)\n",
    "labels, features = targetFeatureSplit(data)\n",
    "\n",
    "features_train, features_test, labels_train, labels_test = train_test_split(features, labels, test_size=0.3, random_state=42)\n",
    "sss = StratifiedShuffleSplit(labels,  1000, random_state = 42)"
   ]
  },
  {
   "cell_type": "code",
   "execution_count": 33,
   "metadata": {},
   "outputs": [],
   "source": [
    "# final algorithm\n",
    "clf = GaussianNB()\n",
    "clf.fit(features_train, labels_train)\n",
    "\n",
    "pred = clf.predict(features_test)\n",
    "\n",
    "# performance score in sklearn metrics\n",
    "recall = recall_score(labels_test, pred)\n",
    "precision = precision_score(labels_test, pred)"
   ]
  },
  {
   "cell_type": "code",
   "execution_count": 34,
   "metadata": {},
   "outputs": [
    {
     "name": "stdout",
     "output_type": "stream",
     "text": [
      "GaussianNB(priors=None)\n",
      "\tAccuracy: 0.84420\tPrecision: 0.39409\tRecall: 0.31350\tF1: 0.34921\tF2: 0.32687\n",
      "\tTotal predictions: 15000\tTrue positives:  627\tFalse positives:  964\tFalse negatives: 1373\tTrue negatives: 12036\n",
      "\n"
     ]
    }
   ],
   "source": [
    "# test classifier in tester.py\n",
    "test_classifier(clf, my_dataset, final_feature_list)"
   ]
  },
  {
   "cell_type": "code",
   "execution_count": 35,
   "metadata": {},
   "outputs": [],
   "source": [
    "### Task 6: Dump your classifier, dataset, and features_list so anyone can\n",
    "### check your results. You do not need to change anything below, but make sure\n",
    "### that the version of poi_id.py that you submit can be run on its own and\n",
    "### generates the necessary .pkl files for validating your results.\n",
    "\n",
    "dump_classifier_and_data(clf, my_dataset, final_feature_list)"
   ]
  },
  {
   "cell_type": "code",
   "execution_count": null,
   "metadata": {},
   "outputs": [],
   "source": []
  }
 ],
 "metadata": {
  "kernelspec": {
   "display_name": "Python 2",
   "language": "python",
   "name": "python2"
  },
  "language_info": {
   "codemirror_mode": {
    "name": "ipython",
    "version": 2
   },
   "file_extension": ".py",
   "mimetype": "text/x-python",
   "name": "python",
   "nbconvert_exporter": "python",
   "pygments_lexer": "ipython2",
   "version": "2.7.15"
  }
 },
 "nbformat": 4,
 "nbformat_minor": 2
}
